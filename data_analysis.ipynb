{
 "cells": [
  {
   "cell_type": "markdown",
   "metadata": {},
   "source": [
    "#  Corporate Procurement Contract Awards Data Analyze\n",
    "\n",
    "The objective of this project is to analyze dataset Corporate Procurement Contract Awards available here: https://finances.worldbank.org/Procurement/Corporate-Procurement-Contract-Awards/a3d9-f9xv \n",
    "\n",
    "Through this post we will try to find answers to the questions:\n",
    "Which are the top 10 counties that are most present in our dataset?\n",
    "Which are the top 10 contracts and the country with with the  largest award amount?\n",
    "Which are categories that get a larger amount of the award per contracts?\n",
    "Is there any link between the supplier contract numbers and the award amount?\n",
    "What are the words the most used to describe a contract?\n",
    "Is there any relationship between the contract description and the award amount?\n",
    "\n",
    "## Steps:\n",
    "\n",
    "* Load and cleaning data\n",
    "* Save of cleaned dataset\n",
    "* Tokenize data\n",
    "* Train model to predict project award amount\n",
    "* Check model metrics\n",
    "\n"
   ]
  },
  {
   "cell_type": "markdown",
   "metadata": {},
   "source": [
    "# 0. Prepare environment"
   ]
  },
  {
   "cell_type": "code",
   "execution_count": 98,
   "metadata": {},
   "outputs": [],
   "source": [
    "from pyspark.sql import SparkSession\n",
    "from pyspark.sql.functions import substring,avg, col, concat,count, desc, explode, lit, min, max, split, stddev, udf, levenshtein\n",
    "from pyspark.sql.types import IntegerType, FloatType\n",
    "from pyspark.ml.regression import LinearRegression, DecisionTreeRegressor\n",
    "from pyspark.ml.evaluation import RegressionEvaluator\n",
    "from pyspark.ml.feature import CountVectorizer, IDF, RegexTokenizer, StopWordsRemover, StringIndexer, VectorAssembler"
   ]
  },
  {
   "cell_type": "code",
   "execution_count": 2,
   "metadata": {},
   "outputs": [],
   "source": [
    "import numpy as np\n",
    "import string\n",
    "\n",
    "%matplotlib inline\n",
    "import matplotlib.pyplot as plt"
   ]
  },
  {
   "cell_type": "code",
   "execution_count": 3,
   "metadata": {},
   "outputs": [],
   "source": [
    "# create a SparkSession: note this step was left out of the screencast\n",
    "spark_session = SparkSession.builder \\\n",
    "    .master(\"local\") \\\n",
    "    .appName(\"Word Count\") \\\n",
    "    .getOrCreate()"
   ]
  },
  {
   "cell_type": "code",
   "execution_count": 4,
   "metadata": {},
   "outputs": [],
   "source": [
    "def load_data(filepath, spark_session = spark_session):\n",
    "    \"\"\"\n",
    "        Load data from input paths arguments\n",
    "        :param filepath: The path of data file\n",
    "        :type filepath: string\n",
    "        :return: The result set containing the read read from the file\n",
    "        :rtype: DataFrame\n",
    "    \"\"\"\n",
    "    data_df = spark_session.read.csv(data_path)\n",
    "    data_df.persist()\n",
    "\n",
    "    return data_df"
   ]
  },
  {
   "cell_type": "code",
   "execution_count": 5,
   "metadata": {},
   "outputs": [],
   "source": [
    "def clean_data(data_df, column_subset):\n",
    "    \"\"\"\n",
    "        Cleans and drops unused columns and duplicated lines of the dataframe passed in argument.\n",
    "         :param df: The dataframe to be cleaned\n",
    "         :param column_subset : subset of dataframe columns\n",
    "         :type df: DataFrame\n",
    "         :type column_subset: List\n",
    "         :return: The result of the cleaning processing\n",
    "         :rtype: DataFrame\n",
    "   \"\"\"\n",
    "\n",
    "    # Drop rows having value null in the one of the columns in column_subset \n",
    "    df = data_df.dropna(how = \"any\", subset = column_subset)\n",
    "    df = df.drop_duplicates()\n",
    "\n",
    "    return df"
   ]
  },
  {
   "cell_type": "markdown",
   "metadata": {},
   "source": [
    "# 1. Read & Explore data\n",
    "\n",
    "Here we read input data from the file."
   ]
  },
  {
   "cell_type": "code",
   "execution_count": 6,
   "metadata": {},
   "outputs": [],
   "source": [
    "data_path = 'Corporate_Procurement_Contract_Awards.csv'"
   ]
  },
  {
   "cell_type": "code",
   "execution_count": 7,
   "metadata": {},
   "outputs": [],
   "source": [
    "df = load_data(data_path)"
   ]
  },
  {
   "cell_type": "code",
   "execution_count": 8,
   "metadata": {},
   "outputs": [
    {
     "data": {
      "text/plain": [
       "Row(_c0='Award Date', _c1='Quarter and Fiscal Year', _c2='Commodity Category', _c3='Contract Description', _c4='WBG Organization', _c5='Selection Number', _c6='Supplier', _c7='Supplier Country', _c8='Supplier Country Code', _c9='Contract Award Amount', _c10='Fund Source', _c11='VPU description')"
      ]
     },
     "execution_count": 8,
     "metadata": {},
     "output_type": "execute_result"
    }
   ],
   "source": [
    "df.head()"
   ]
  },
  {
   "cell_type": "markdown",
   "metadata": {},
   "source": [
    "As we see the first row is a header, so lets filter it and clean the data."
   ]
  },
  {
   "cell_type": "code",
   "execution_count": 9,
   "metadata": {},
   "outputs": [],
   "source": [
    "# Filter the header\n",
    "df = df.select(df.columns).where(col(\"_c3\")!=\"Contract Description\")"
   ]
  },
  {
   "cell_type": "code",
   "execution_count": 10,
   "metadata": {},
   "outputs": [],
   "source": [
    "df = clean_data(df,df.columns)"
   ]
  },
  {
   "cell_type": "code",
   "execution_count": 11,
   "metadata": {},
   "outputs": [
    {
     "name": "stdout",
     "output_type": "stream",
     "text": [
      "root\n",
      " |-- _c0: string (nullable = true)\n",
      " |-- _c1: string (nullable = true)\n",
      " |-- _c2: string (nullable = true)\n",
      " |-- _c3: string (nullable = true)\n",
      " |-- _c4: string (nullable = true)\n",
      " |-- _c5: string (nullable = true)\n",
      " |-- _c6: string (nullable = true)\n",
      " |-- _c7: string (nullable = true)\n",
      " |-- _c8: string (nullable = true)\n",
      " |-- _c9: string (nullable = true)\n",
      " |-- _c10: string (nullable = true)\n",
      " |-- _c11: string (nullable = true)\n",
      "\n"
     ]
    }
   ],
   "source": [
    "df.printSchema()"
   ]
  },
  {
   "cell_type": "code",
   "execution_count": 12,
   "metadata": {},
   "outputs": [
    {
     "data": {
      "text/plain": [
       "1642"
      ]
     },
     "execution_count": 12,
     "metadata": {},
     "output_type": "execute_result"
    }
   ],
   "source": [
    "# Get dataset size\n",
    "df.count()"
   ]
  },
  {
   "cell_type": "code",
   "execution_count": 13,
   "metadata": {},
   "outputs": [
    {
     "name": "stdout",
     "output_type": "stream",
     "text": [
      "root\n",
      " |-- _c0: string (nullable = true)\n",
      " |-- _c1: string (nullable = true)\n",
      " |-- _c2: string (nullable = true)\n",
      " |-- _c3: string (nullable = true)\n",
      " |-- _c4: string (nullable = true)\n",
      " |-- _c5: string (nullable = true)\n",
      " |-- _c6: string (nullable = true)\n",
      " |-- _c7: string (nullable = true)\n",
      " |-- _c8: string (nullable = true)\n",
      " |-- _c9: string (nullable = true)\n",
      " |-- _c10: string (nullable = true)\n",
      " |-- _c11: string (nullable = true)\n",
      "\n"
     ]
    }
   ],
   "source": [
    "df.printSchema()"
   ]
  },
  {
   "cell_type": "code",
   "execution_count": 14,
   "metadata": {},
   "outputs": [
    {
     "name": "stdout",
     "output_type": "stream",
     "text": [
      "+--------------------+---------+--------------------+--------------------+----+-------+--------------------+----------+---+----------+----------+--------------------+\n",
      "|                 _c0|      _c1|                 _c2|                 _c3| _c4|    _c5|                 _c6|       _c7|_c8|       _c9|      _c10|                _c11|\n",
      "+--------------------+---------+--------------------+--------------------+----+-------+--------------------+----------+---+----------+----------+--------------------+\n",
      "|08/18/2014 12:00:...|Q1 - FY15|          CONSULTING|    Hydropower Atlas|IBRD|1130310|AECOM Concultants...|    Canada| CA| 598500.00|Trust Fund|GP- CCSA, Vice Pr...|\n",
      "|07/28/2015 12:00:...|Q1 - FY16|            SOFTWARE|IBM SOFTWARE MAIN...|IBRD|15-0567|Jeskell Systems, LLC|       USA| US|2035749.37|       WBG|Information and T...|\n",
      "|08/09/2018 12:00:...|Q1 - FY19|CONTRACT CONSULTANTS|Treasury and Risk...| IFC|1252950|Deloitte & Touche...|Mozambique| MZ|1045866.00|Trust Fund|IFC Chief Operati...|\n",
      "+--------------------+---------+--------------------+--------------------+----+-------+--------------------+----------+---+----------+----------+--------------------+\n",
      "only showing top 3 rows\n",
      "\n"
     ]
    }
   ],
   "source": [
    "df.show(3)"
   ]
  },
  {
   "cell_type": "code",
   "execution_count": 16,
   "metadata": {},
   "outputs": [
    {
     "name": "stdout",
     "output_type": "stream",
     "text": [
      "+----+-----+\n",
      "|year|count|\n",
      "+----+-----+\n",
      "|2019|  150|\n",
      "|2018|  279|\n",
      "|2017|  290|\n",
      "|2016|  274|\n",
      "|2015|  273|\n",
      "|2014|  273|\n",
      "|2013|  103|\n",
      "+----+-----+\n",
      "\n"
     ]
    }
   ],
   "source": [
    "# Let's check the years covered by dataset. For this we'll use _c0='Award Date' column.\n",
    "df = df.withColumn('year', substring('_c0', 7,4))\n",
    "df.groupby('year').count().orderBy(desc('year')).show()"
   ]
  },
  {
   "cell_type": "markdown",
   "metadata": {},
   "source": [
    "So we have contract data from 2013 to 2019."
   ]
  },
  {
   "cell_type": "code",
   "execution_count": 17,
   "metadata": {},
   "outputs": [
    {
     "name": "stdout",
     "output_type": "stream",
     "text": [
      "+--------------+-----+\n",
      "|           _c7|count|\n",
      "+--------------+-----+\n",
      "|           USA|  464|\n",
      "|United Kingdom|  180|\n",
      "|        France|   82|\n",
      "|         India|   76|\n",
      "|   Netherlands|   71|\n",
      "|       Germany|   44|\n",
      "|         Spain|   36|\n",
      "|         Kenya|   35|\n",
      "|       Denmark|   28|\n",
      "|     Indonesia|   28|\n",
      "+--------------+-----+\n",
      "only showing top 10 rows\n",
      "\n"
     ]
    },
    {
     "data": {
      "text/plain": [
       "118"
      ]
     },
     "execution_count": 17,
     "metadata": {},
     "output_type": "execute_result"
    }
   ],
   "source": [
    "# Let's find the supplier contries and the number of project per country in our dataset.\n",
    "# For this we will use the column _c7='Supplier Country'\n",
    "country_df = df.select(\"_c7\").groupby(\"_c7\").count().orderBy(desc(\"count\"))\n",
    "country_df.show(10)\n",
    "country_df.count()"
   ]
  },
  {
   "cell_type": "markdown",
   "metadata": {},
   "source": [
    "As we see the data sets covers contracts in 118 countries.\n",
    "The list of top 10 countries with the highest number of contracts is displayed here."
   ]
  },
  {
   "cell_type": "code",
   "execution_count": 18,
   "metadata": {},
   "outputs": [],
   "source": [
    "country_df = df.select(\"_c7\").groupby(\"_c7\").count().orderBy(desc(\"count\")).limit(10)\n",
    "country_df_pd = country_df.toPandas()"
   ]
  },
  {
   "cell_type": "code",
   "execution_count": 20,
   "metadata": {},
   "outputs": [
    {
     "data": {
      "image/png": "[encoded data removed]",
      "text/plain": [
       "<Figure size 864x288 with 1 Axes>"
      ]
     },
     "metadata": {
      "needs_background": "light"
     },
     "output_type": "display_data"
    }
   ],
   "source": [
    "fig, ax = plt.subplots(figsize=(12, 4))\n",
    "ax.plot(country_df_pd[\"_c7\"], country_df_pd[\"count\"], c = 'g')\n",
    "ax.set(ylabel='Number of contracts',title='Contracts per Country');"
   ]
  },
  {
   "cell_type": "code",
   "execution_count": 21,
   "metadata": {},
   "outputs": [],
   "source": [
    "# Before finding the total award amount per country we have to cast the type of \n",
    "# the column _c9='Contract Award Amount' from string to float.\n",
    "df = df.withColumn(\"_c9\",df[\"_c9\"].cast(FloatType()))"
   ]
  },
  {
   "cell_type": "code",
   "execution_count": 22,
   "metadata": {},
   "outputs": [
    {
     "name": "stdout",
     "output_type": "stream",
     "text": [
      "+--------------+------------------+\n",
      "|           _c7|          sum(_c9)|\n",
      "+--------------+------------------+\n",
      "|           USA|7.46312585796875E8|\n",
      "|United Kingdom| 9.3354144140625E7|\n",
      "|        France|  3.445774171875E7|\n",
      "|   Netherlands|   3.35884134375E7|\n",
      "|         India|    3.0446860875E7|\n",
      "|       Germany|  1.696231778125E7|\n",
      "|        Canada|   1.59528425625E7|\n",
      "|         Kenya|   1.57042685625E7|\n",
      "|        Brazil| 1.3171163609375E7|\n",
      "|       Denmark|  1.299049553125E7|\n",
      "+--------------+------------------+\n",
      "\n"
     ]
    }
   ],
   "source": [
    "# Let's find the total award amount per country\n",
    "country_df = df.select(\"_c7\",\"_c9\").groupby(\"_c7\").sum(\"_c9\").orderBy(desc(\"sum(_c9)\")).limit(10)\n",
    "country_df.show()"
   ]
  },
  {
   "cell_type": "markdown",
   "metadata": {},
   "source": [
    "Here are the top 10 countries with the corresponding award amounts. As it is said in the description of the dataset the currency is USD."
   ]
  },
  {
   "cell_type": "code",
   "execution_count": 28,
   "metadata": {},
   "outputs": [
    {
     "name": "stdout",
     "output_type": "stream",
     "text": [
      "+--------------------+---------+-----------+\n",
      "|                 _c3|      _c7|        _c9|\n",
      "+--------------------+---------+-----------+\n",
      "|Food & Catering a...|      USA|     2.16E8|\n",
      "|Travel Management...|      USA|     5.27E7|\n",
      "|PHARMACY BENEFIT ...|      USA|      5.2E7|\n",
      "|    Global Custodian|      USA|2.1941912E7|\n",
      "|Somalia  Monitori...|      USA|1.2054287E7|\n",
      "|Ethiopia Technica...|      USA|     1.16E7|\n",
      "|Food & Catering a...|      USA|    1.125E7|\n",
      "|Global Multiproto...|Mauritius|1.0871742E7|\n",
      "|     GLOBAL PAYMENTS|      USA|      1.0E7|\n",
      "|Global Multiproto...|      USA|  9544230.0|\n",
      "+--------------------+---------+-----------+\n",
      "\n"
     ]
    }
   ],
   "source": [
    "# let's dive in and check the contract descriptions beside the country, with largest award amount\n",
    "country_df = df.select(\"_c3\",\"_c7\",\"_c9\").orderBy(desc(\"_c9\")).limit(10)\n",
    "country_df.show()"
   ]
  },
  {
   "cell_type": "markdown",
   "metadata": {},
   "source": [
    "So the highest contract awards are attributed to the contracts related to USA."
   ]
  },
  {
   "cell_type": "markdown",
   "metadata": {},
   "source": [
    "### Let's check the commodity categories: _c2='Commodity Category'"
   ]
  },
  {
   "cell_type": "code",
   "execution_count": 29,
   "metadata": {},
   "outputs": [
    {
     "data": {
      "text/plain": [
       "Row(_c0='08/18/2014 12:00:00 AM', _c1='Q1 - FY15', _c2='CONSULTING', _c3='Hydropower Atlas', _c4='IBRD', _c5='1130310', _c6='AECOM Concultants Inc.', _c7='Canada', _c8='CA', _c9=598500.0, _c10='Trust Fund', _c11='GP- CCSA, Vice Presidency', year='2014')"
      ]
     },
     "execution_count": 29,
     "metadata": {},
     "output_type": "execute_result"
    }
   ],
   "source": [
    "df.head()"
   ]
  },
  {
   "cell_type": "code",
   "execution_count": 30,
   "metadata": {},
   "outputs": [
    {
     "name": "stdout",
     "output_type": "stream",
     "text": [
      "+--------------------+-----+\n",
      "|                 _c2|count|\n",
      "+--------------------+-----+\n",
      "|CONTRACT CONSULTANTS|  782|\n",
      "|          CONSULTING|  630|\n",
      "| CONTRACT CONSULTING|   80|\n",
      "|            SOFTWARE|   44|\n",
      "|EXTRNL/CATERED EVENT|   25|\n",
      "|  TELECOMMUNICATIONS|   16|\n",
      "|EXTERNAL/CATERED ...|   10|\n",
      "| MISCELLANEOUS SRVCS|    8|\n",
      "|            TRAINING|    7|\n",
      "|        AUDIO VISUAL|    6|\n",
      "+--------------------+-----+\n",
      "\n"
     ]
    }
   ],
   "source": [
    "commodity_df = df.select(\"_c2\").groupby(\"_c2\").count().orderBy(desc(\"count\")).limit(10)\n",
    "commodity_df.show()"
   ]
  },
  {
   "cell_type": "code",
   "execution_count": 32,
   "metadata": {},
   "outputs": [
    {
     "data": {
      "text/plain": [
       "[Text(0, 0.5, 'Categories'),\n",
       " Text(0.5, 0, 'Contract numbers'),\n",
       " Text(0.5, 1.0, 'Contracts per Category')]"
      ]
     },
     "execution_count": 32,
     "metadata": {},
     "output_type": "execute_result"
    },
    {
     "data": {
      "image/png": "[encoded data removed]",
      "text/plain": [
       "<Figure size 864x288 with 1 Axes>"
      ]
     },
     "metadata": {
      "needs_background": "light"
     },
     "output_type": "display_data"
    }
   ],
   "source": [
    "commodity_df_pd = commodity_df.toPandas()\n",
    "fig, ax = plt.subplots(figsize=(12, 4))\n",
    "ax.plot(commodity_df_pd[\"count\"],commodity_df_pd[\"_c2\"], c = 'b')\n",
    "ax.set(xlabel = \"Contract numbers\", ylabel='Categories',title='Contracts per Category')"
   ]
  },
  {
   "cell_type": "code",
   "execution_count": 34,
   "metadata": {},
   "outputs": [
    {
     "name": "stdout",
     "output_type": "stream",
     "text": [
      "+--------------------+------------------+\n",
      "|                 _c2|          sum(_c9)|\n",
      "+--------------------+------------------+\n",
      "|CONTRACT CONSULTANTS|4.30085531859375E8|\n",
      "|          CONSULTING| 3.3304275815625E8|\n",
      "|        FOOD SERVICE|            2.16E8|\n",
      "|             MEDICAL|           6.535E7|\n",
      "| MISCELLANEOUS SRVCS| 5.6332658859375E7|\n",
      "|            SOFTWARE|   5.60596633125E7|\n",
      "| CONTRACT CONSULTING|    4.6378417625E7|\n",
      "|  TELECOMMUNICATIONS| 3.7020390578125E7|\n",
      "|EXTRNL/CATERED EVENT|    2.3154612875E7|\n",
      "|        AUDIO VISUAL|      5313020.5625|\n",
      "+--------------------+------------------+\n",
      "only showing top 10 rows\n",
      "\n"
     ]
    }
   ],
   "source": [
    "# let's check most expensive commodity categories \n",
    "commodity_df = df.select(\"_c2\",\"_c9\").groupby(\"_c2\").sum(\"_c9\").orderBy(desc(\"sum(_c9)\"))\n",
    "commodity_df.show(10)"
   ]
  },
  {
   "cell_type": "code",
   "execution_count": 35,
   "metadata": {},
   "outputs": [
    {
     "name": "stdout",
     "output_type": "stream",
     "text": [
      "+--------------------+------------------+-----+\n",
      "|                 _c2|          sum(_c9)|count|\n",
      "+--------------------+------------------+-----+\n",
      "|CONTRACT CONSULTANTS|4.30085531859375E8|  782|\n",
      "|          CONSULTING| 3.3304275815625E8|  630|\n",
      "|        FOOD SERVICE|            2.16E8|    1|\n",
      "|             MEDICAL|           6.535E7|    4|\n",
      "| MISCELLANEOUS SRVCS| 5.6332658859375E7|    8|\n",
      "|            SOFTWARE|   5.60596633125E7|   44|\n",
      "| CONTRACT CONSULTING|    4.6378417625E7|   80|\n",
      "|  TELECOMMUNICATIONS| 3.7020390578125E7|   16|\n",
      "|EXTRNL/CATERED EVENT|    2.3154612875E7|   25|\n",
      "|        AUDIO VISUAL|      5313020.5625|    6|\n",
      "+--------------------+------------------+-----+\n",
      "only showing top 10 rows\n",
      "\n"
     ]
    }
   ],
   "source": [
    "# Let's dive in and find the amount of award of contracts per category of the dataset\n",
    "commodity_df2 = df.select(\"_c2\",\"_c9\").groupby(\"_c2\").count()\n",
    "new_df = commodity_df.alias('a').join(commodity_df2.alias('b'),col('b._c2') == col('a._c2')).\\\n",
    "                            select([col('a.'+xx) for xx in commodity_df.columns] + [col('b.count')])\n",
    "new_df.show(10)"
   ]
  },
  {
   "cell_type": "code",
   "execution_count": 36,
   "metadata": {},
   "outputs": [],
   "source": [
    "per_pice = udf(lambda x,y :x/y, FloatType())"
   ]
  },
  {
   "cell_type": "code",
   "execution_count": 37,
   "metadata": {},
   "outputs": [
    {
     "data": {
      "text/plain": [
       "DataFrame[_c2: string, sum(_c9): double, count: bigint]"
      ]
     },
     "execution_count": 37,
     "metadata": {},
     "output_type": "execute_result"
    }
   ],
   "source": [
    "new_df.dropna(how = \"any\", subset = ['sum(_c9)'])"
   ]
  },
  {
   "cell_type": "code",
   "execution_count": 38,
   "metadata": {},
   "outputs": [
    {
     "name": "stdout",
     "output_type": "stream",
     "text": [
      "+--------------------+-----------------+-----+----------------+\n",
      "|                 _c2|         sum(_c9)|count|pricePerCategory|\n",
      "+--------------------+-----------------+-----+----------------+\n",
      "|        FOOD SERVICE|           2.16E8|    1|          2.16E8|\n",
      "|             MEDICAL|          6.535E7|    4|       1.63375E7|\n",
      "| MISCELLANEOUS SRVCS|5.6332658859375E7|    8|       7041582.5|\n",
      "|  TELECOMMUNICATIONS|3.7020390578125E7|   16|       2313774.5|\n",
      "|      TRANSPORTATION|      3208571.125|    2|       1604285.5|\n",
      "|            SOFTWARE|  5.60596633125E7|   44|       1274083.2|\n",
      "|    GENERAL BUILDING|     2021131.3125|    2|       1010565.6|\n",
      "|EXTRNL/CATERED EVENT|   2.3154612875E7|   25|        926184.5|\n",
      "|        AUDIO VISUAL|     5313020.5625|    6|       885503.44|\n",
      "|         IT HARDWARE|     2447701.3125|    3|       815900.44|\n",
      "+--------------------+-----------------+-----+----------------+\n",
      "only showing top 10 rows\n",
      "\n"
     ]
    }
   ],
   "source": [
    "new_df = new_df.withColumn('pricePerCategory',per_pice(col('sum(_c9)'), col('count'))).orderBy(desc('pricePerCategory'))\n",
    "new_df.show(10)"
   ]
  },
  {
   "cell_type": "markdown",
   "metadata": {},
   "source": [
    "So even if the category 'CONTRACT CONSULTANTS' has the highest total award amount and is related to many contracts, the category with the highest award amount is 'FOOD SERVICE'."
   ]
  },
  {
   "cell_type": "markdown",
   "metadata": {},
   "source": [
    "### Let's check the biggest supplies _c6='Supplier'"
   ]
  },
  {
   "cell_type": "code",
   "execution_count": 39,
   "metadata": {},
   "outputs": [
    {
     "name": "stdout",
     "output_type": "stream",
     "text": [
      "+--------------------+-----+\n",
      "|                 _c6|count|\n",
      "+--------------------+-----+\n",
      "|        Castalia Ltd|   22|\n",
      "|Innovations for P...|   18|\n",
      "|Mott MacDonald Li...|   15|\n",
      "|Oxford Policy Man...|   14|\n",
      "|     NODALIS CONSEIL|   10|\n",
      "|ECONOMIC CONSULTI...|   10|\n",
      "|PricewaterhouseCo...|   10|\n",
      "| Gide Loyrette Nouel|   10|\n",
      "| Hanovia Medical Ltd|    9|\n",
      "|   Ernst & Young LLP|    9|\n",
      "+--------------------+-----+\n",
      "only showing top 10 rows\n",
      "\n"
     ]
    }
   ],
   "source": [
    "# Who are the suppliers with max contract numbers?\n",
    "supplier_df_count = df.select(\"_c6\").groupby(\"_c6\").count().orderBy(desc(\"count\"))\n",
    "supplier_df_count.show(10)"
   ]
  },
  {
   "cell_type": "code",
   "execution_count": 40,
   "metadata": {},
   "outputs": [
    {
     "name": "stdout",
     "output_type": "stream",
     "text": [
      "+--------------------+----------------+\n",
      "|                 _c6|        sum(_c9)|\n",
      "+--------------------+----------------+\n",
      "|Restaurant Associ...|          2.16E8|\n",
      "|          GBT US LLC|          5.62E7|\n",
      "|SilverScript Insu...|           5.2E7|\n",
      "|         Citibank NA|     2.1941912E7|\n",
      "|          Abyrint AS|     1.5767287E7|\n",
      "|Agriteam Canada C...|     1.3155993E7|\n",
      "|    FLIK Hospitality|         1.125E7|\n",
      "|CMC Investments I...|     1.0871742E7|\n",
      "|        Castalia Ltd|1.029079309375E7|\n",
      "| Citibank Europe PLC|           1.0E7|\n",
      "+--------------------+----------------+\n",
      "only showing top 10 rows\n",
      "\n"
     ]
    }
   ],
   "source": [
    "# Who are the suppliers with max contract amounts?\n",
    "supplier_df = df.select(\"_c6\", \"_c9\").groupby(\"_c6\").sum(\"_c9\").orderBy(desc(\"sum(_c9)\"))\n",
    "supplier_df.show(10)"
   ]
  },
  {
   "cell_type": "code",
   "execution_count": 41,
   "metadata": {},
   "outputs": [
    {
     "name": "stdout",
     "output_type": "stream",
     "text": [
      "+--------------------+----------------+-----+\n",
      "|                 _c6|        sum(_c9)|count|\n",
      "+--------------------+----------------+-----+\n",
      "|Restaurant Associ...|          2.16E8|    1|\n",
      "|          GBT US LLC|          5.62E7|    2|\n",
      "|SilverScript Insu...|           5.2E7|    1|\n",
      "|         Citibank NA|     2.1941912E7|    1|\n",
      "|          Abyrint AS|     1.5767287E7|    3|\n",
      "|Agriteam Canada C...|     1.3155993E7|    3|\n",
      "|    FLIK Hospitality|         1.125E7|    1|\n",
      "|CMC Investments I...|     1.0871742E7|    1|\n",
      "|        Castalia Ltd|1.029079309375E7|   22|\n",
      "| Citibank Europe PLC|           1.0E7|    1|\n",
      "+--------------------+----------------+-----+\n",
      "only showing top 10 rows\n",
      "\n"
     ]
    }
   ],
   "source": [
    "# Let's check the currelation between total award amount and contract numbers\n",
    "new_supplier_df = supplier_df.alias('a').join(supplier_df_count.alias('b'),col('b._c6') == col('a._c6')).\\\n",
    "                            select([col('a.'+xx) for xx in supplier_df.columns] + [col('b.count')])\n",
    "new_supplier_df.show(10)"
   ]
  },
  {
   "cell_type": "code",
   "execution_count": 45,
   "metadata": {},
   "outputs": [
    {
     "data": {
      "text/plain": [
       "[Text(0, 0.5, 'Total award amount per supplier'),\n",
       " Text(0.5, 0, 'Number of contracts'),\n",
       " Text(0.5, 1.0, 'Distribution of the total contract amount vs contract count per a supplier')]"
      ]
     },
     "execution_count": 45,
     "metadata": {},
     "output_type": "execute_result"
    },
    {
     "data": {
      "image/png": "[encoded data removed]",
      "text/plain": [
       "<Figure size 864x288 with 1 Axes>"
      ]
     },
     "metadata": {
      "needs_background": "light"
     },
     "output_type": "display_data"
    }
   ],
   "source": [
    "new_supplier_df_pd = new_supplier_df.toPandas()\n",
    "fig, ax = plt.subplots(figsize=(12, 4))\n",
    "ax.scatter(new_supplier_df_pd[\"count\"], new_supplier_df_pd[\"sum(_c9)\"], c='r', alpha=0.5)\n",
    "ax.set(ylabel = \"Total award amount per supplier\",\n",
    "       xlabel = \"Number of contracts\",\n",
    "       title = 'Distribution of the total contract amount vs contract count per a supplier')"
   ]
  },
  {
   "cell_type": "markdown",
   "metadata": {},
   "source": [
    "As we see the total award amount of contracts of a supplier is not correlated with contracts' number."
   ]
  },
  {
   "cell_type": "markdown",
   "metadata": {},
   "source": [
    "Lets continue with the text analysis of the description column _c3='Contract Description'."
   ]
  },
  {
   "cell_type": "markdown",
   "metadata": {},
   "source": [
    "# 2. Text analysis\n",
    "\n",
    "Lets continue with text analysis of the column contrat description."
   ]
  },
  {
   "cell_type": "code",
   "execution_count": 46,
   "metadata": {},
   "outputs": [],
   "source": [
    "regexTokenizer = RegexTokenizer(inputCol=\"_c3\", outputCol=\"wordList\")\n",
    "data_df = regexTokenizer.transform(df)"
   ]
  },
  {
   "cell_type": "code",
   "execution_count": 47,
   "metadata": {},
   "outputs": [
    {
     "name": "stdout",
     "output_type": "stream",
     "text": [
      "+--------------------+---------+--------------------+--------------------+----+-------+--------------------+----------+---+---------+----------+--------------------+----+--------------------+\n",
      "|                 _c0|      _c1|                 _c2|                 _c3| _c4|    _c5|                 _c6|       _c7|_c8|      _c9|      _c10|                _c11|year|            wordList|\n",
      "+--------------------+---------+--------------------+--------------------+----+-------+--------------------+----------+---+---------+----------+--------------------+----+--------------------+\n",
      "|08/18/2014 12:00:...|Q1 - FY15|          CONSULTING|    Hydropower Atlas|IBRD|1130310|AECOM Concultants...|    Canada| CA| 598500.0|Trust Fund|GP- CCSA, Vice Pr...|2014| [hydropower, atlas]|\n",
      "|07/28/2015 12:00:...|Q1 - FY16|            SOFTWARE|IBM SOFTWARE MAIN...|IBRD|15-0567|Jeskell Systems, LLC|       USA| US|2035749.4|       WBG|Information and T...|2015|[ibm, software, m...|\n",
      "|08/09/2018 12:00:...|Q1 - FY19|CONTRACT CONSULTANTS|Treasury and Risk...| IFC|1252950|Deloitte & Touche...|Mozambique| MZ|1045866.0|Trust Fund|IFC Chief Operati...|2018|[treasury, and, r...|\n",
      "+--------------------+---------+--------------------+--------------------+----+-------+--------------------+----------+---+---------+----------+--------------------+----+--------------------+\n",
      "only showing top 3 rows\n",
      "\n"
     ]
    }
   ],
   "source": [
    "data_df.show(3)"
   ]
  },
  {
   "cell_type": "code",
   "execution_count": 48,
   "metadata": {},
   "outputs": [],
   "source": [
    "stopWordsRemover = StopWordsRemover(inputCol=\"wordList\", outputCol=\"cleanWordList\")\n",
    "data_df = stopWordsRemover.transform(data_df)"
   ]
  },
  {
   "cell_type": "code",
   "execution_count": 49,
   "metadata": {},
   "outputs": [],
   "source": [
    "get_text_length = udf(lambda x: len(x), IntegerType())"
   ]
  },
  {
   "cell_type": "code",
   "execution_count": 50,
   "metadata": {},
   "outputs": [],
   "source": [
    "data_df = data_df.withColumn('DescriptionLength', get_text_length('cleanWordList'))"
   ]
  },
  {
   "cell_type": "code",
   "execution_count": 51,
   "metadata": {},
   "outputs": [
    {
     "name": "stdout",
     "output_type": "stream",
     "text": [
      "root\n",
      " |-- _c0: string (nullable = true)\n",
      " |-- _c1: string (nullable = true)\n",
      " |-- _c2: string (nullable = true)\n",
      " |-- _c3: string (nullable = true)\n",
      " |-- _c4: string (nullable = true)\n",
      " |-- _c5: string (nullable = true)\n",
      " |-- _c6: string (nullable = true)\n",
      " |-- _c7: string (nullable = true)\n",
      " |-- _c8: string (nullable = true)\n",
      " |-- _c9: float (nullable = true)\n",
      " |-- _c10: string (nullable = true)\n",
      " |-- _c11: string (nullable = true)\n",
      " |-- year: string (nullable = true)\n",
      " |-- wordList: array (nullable = true)\n",
      " |    |-- element: string (containsNull = true)\n",
      " |-- cleanWordList: array (nullable = true)\n",
      " |    |-- element: string (containsNull = true)\n",
      " |-- DescriptionLength: integer (nullable = true)\n",
      "\n"
     ]
    }
   ],
   "source": [
    "data_df.printSchema()"
   ]
  },
  {
   "cell_type": "code",
   "execution_count": 78,
   "metadata": {},
   "outputs": [
    {
     "data": {
      "text/plain": [
       "[Row(_c0='08/18/2014 12:00:00 AM', _c1='Q1 - FY15', _c2='CONSULTING', _c3='Hydropower Atlas', _c4='IBRD', _c5='1130310', _c6='AECOM Concultants Inc.', _c7='Canada', _c8='CA', _c9=598500.0, _c10='Trust Fund', _c11='GP- CCSA, Vice Presidency', year='2014', wordList=['hydropower', 'atlas'], cleanWordList=['hydropower', 'atlas'], DescriptionLength=2, TF=SparseVector(1000, {221: 1.0}))]"
      ]
     },
     "execution_count": 78,
     "metadata": {},
     "output_type": "execute_result"
    }
   ],
   "source": [
    "# Get term frequency\n",
    "cv = CountVectorizer(inputCol=\"cleanWordList\", outputCol=\"TF\", vocabSize=1000)\n",
    "cvmodel = cv.fit(data_df)\n",
    "new_df = cvmodel.transform(data_df)\n",
    "new_df.take(1)"
   ]
  },
  {
   "cell_type": "code",
   "execution_count": 105,
   "metadata": {},
   "outputs": [
    {
     "data": {
      "text/plain": [
       "['services',\n",
       " 'development',\n",
       " 'support',\n",
       " 'program',\n",
       " 'project',\n",
       " 'management',\n",
       " 'technical',\n",
       " 'survey',\n",
       " 'consultant',\n",
       " 'public']"
      ]
     },
     "execution_count": 105,
     "metadata": {},
     "output_type": "execute_result"
    }
   ],
   "source": [
    "# What are the top 10 words the most used to describe a contract\n",
    "cvmodel.vocabulary[1:11]"
   ]
  },
  {
   "cell_type": "code",
   "execution_count": 80,
   "metadata": {},
   "outputs": [
    {
     "data": {
      "text/plain": [
       "['inventory',\n",
       " 'rating',\n",
       " 'centered',\n",
       " 'privatization',\n",
       " '(isp)',\n",
       " 'pumped',\n",
       " 'king',\n",
       " 'sava',\n",
       " '(pmeh)',\n",
       " 'leaders']"
      ]
     },
     "execution_count": 80,
     "metadata": {},
     "output_type": "execute_result"
    }
   ],
   "source": [
    "# Check bottom list of the term vocabylary\n",
    "cvmodel.vocabulary[-10:]"
   ]
  },
  {
   "cell_type": "code",
   "execution_count": 81,
   "metadata": {},
   "outputs": [
    {
     "data": {
      "text/plain": [
       "Row(_c0='08/18/2014 12:00:00 AM', _c1='Q1 - FY15', _c2='CONSULTING', _c3='Hydropower Atlas', _c4='IBRD', _c5='1130310', _c6='AECOM Concultants Inc.', _c7='Canada', _c8='CA', _c9=598500.0, _c10='Trust Fund', _c11='GP- CCSA, Vice Presidency', year='2014', wordList=['hydropower', 'atlas'], cleanWordList=['hydropower', 'atlas'], DescriptionLength=2, TF=SparseVector(1000, {221: 1.0}), TFIDF=SparseVector(1000, {221: 5.0064}))"
      ]
     },
     "execution_count": 81,
     "metadata": {},
     "output_type": "execute_result"
    }
   ],
   "source": [
    "# Get Inverce Documenr Frequency\n",
    "idf = IDF(inputCol=\"TF\", outputCol=\"TFIDF\")\n",
    "idfModel = idf.fit(new_df)\n",
    "new_df = idfModel.transform(new_df)\n",
    "new_df.head()"
   ]
  },
  {
   "cell_type": "code",
   "execution_count": 83,
   "metadata": {},
   "outputs": [],
   "source": [
    "assembler = VectorAssembler(inputCols=[\"TFIDF\"], outputCol=\"Features\")\n",
    "new_df = assembler.transform(new_df)"
   ]
  },
  {
   "cell_type": "code",
   "execution_count": 84,
   "metadata": {},
   "outputs": [
    {
     "data": {
      "text/plain": [
       "Row(_c0='08/18/2014 12:00:00 AM', _c1='Q1 - FY15', _c2='CONSULTING', _c3='Hydropower Atlas', _c4='IBRD', _c5='1130310', _c6='AECOM Concultants Inc.', _c7='Canada', _c8='CA', _c9=598500.0, _c10='Trust Fund', _c11='GP- CCSA, Vice Presidency', year='2014', wordList=['hydropower', 'atlas'], cleanWordList=['hydropower', 'atlas'], DescriptionLength=2, TF=SparseVector(1000, {221: 1.0}), TFIDF=SparseVector(1000, {221: 5.0064}), idx_label=373.0, Features=SparseVector(1000, {221: 5.0064}))"
      ]
     },
     "execution_count": 84,
     "metadata": {},
     "output_type": "execute_result"
    }
   ],
   "source": [
    "new_df.head()"
   ]
  },
  {
   "cell_type": "code",
   "execution_count": 85,
   "metadata": {},
   "outputs": [],
   "source": [
    "rest, validation = new_df.randomSplit([0.7, 0.3], seed = 42)"
   ]
  },
  {
   "cell_type": "markdown",
   "metadata": {},
   "source": [
    "### LinearRegression"
   ]
  },
  {
   "cell_type": "code",
   "execution_count": 106,
   "metadata": {},
   "outputs": [],
   "source": [
    "lr = LinearRegression(featuresCol ='Features', labelCol = '_c9', maxIter=5, regParam=0.0, fitIntercept=False, solver=\"normal\")\n",
    "lrModel = lr.fit(rest)\n",
    "#lrModel.coefficients"
   ]
  },
  {
   "cell_type": "code",
   "execution_count": 107,
   "metadata": {},
   "outputs": [
    {
     "data": {
      "text/plain": [
       "0.6483900167284444"
      ]
     },
     "execution_count": 107,
     "metadata": {},
     "output_type": "execute_result"
    }
   ],
   "source": [
    "lrModel.summary.r2"
   ]
  },
  {
   "cell_type": "code",
   "execution_count": 109,
   "metadata": {},
   "outputs": [],
   "source": [
    "lrPredictions = lrModel.transform(validation)"
   ]
  },
  {
   "cell_type": "code",
   "execution_count": 110,
   "metadata": {},
   "outputs": [
    {
     "name": "stdout",
     "output_type": "stream",
     "text": [
      "root\n",
      " |-- _c0: string (nullable = true)\n",
      " |-- _c1: string (nullable = true)\n",
      " |-- _c2: string (nullable = true)\n",
      " |-- _c3: string (nullable = true)\n",
      " |-- _c4: string (nullable = true)\n",
      " |-- _c5: string (nullable = true)\n",
      " |-- _c6: string (nullable = true)\n",
      " |-- _c7: string (nullable = true)\n",
      " |-- _c8: string (nullable = true)\n",
      " |-- _c9: float (nullable = true)\n",
      " |-- _c10: string (nullable = true)\n",
      " |-- _c11: string (nullable = true)\n",
      " |-- year: string (nullable = true)\n",
      " |-- wordList: array (nullable = true)\n",
      " |    |-- element: string (containsNull = true)\n",
      " |-- cleanWordList: array (nullable = true)\n",
      " |    |-- element: string (containsNull = true)\n",
      " |-- DescriptionLength: integer (nullable = true)\n",
      " |-- TF: vector (nullable = true)\n",
      " |-- TFIDF: vector (nullable = true)\n",
      " |-- idx_label: double (nullable = false)\n",
      " |-- Features: vector (nullable = true)\n",
      " |-- prediction: double (nullable = false)\n",
      "\n"
     ]
    }
   ],
   "source": [
    "lrPredictions.printSchema()"
   ]
  },
  {
   "cell_type": "code",
   "execution_count": 111,
   "metadata": {},
   "outputs": [
    {
     "name": "stdout",
     "output_type": "stream",
     "text": [
      "+--------------------+---------+--------------------+\n",
      "|          prediction|      _c9|            Features|\n",
      "+--------------------+---------+--------------------+\n",
      "| -290797.60198603506| 439921.0|(1000,[19,36,85],...|\n",
      "|   5140235.828518745| 999671.0|(1000,[5,7,35,77,...|\n",
      "| -1288037.6153147744|481963.34|(1000,[32,102,170...|\n",
      "|1.1439009726993315E7|531296.75|(1000,[11,17,28,3...|\n",
      "|   277338.5157081769| 393310.0|(1000,[14,21,41,1...|\n",
      "|   455824.6088107006|360903.72|(1000,[0,7,278,32...|\n",
      "|   440127.2384942813| 363411.0|(1000,[6,50,100],...|\n",
      "|    84638.6229614776| 493043.0|(1000,[126],[4.51...|\n",
      "|   584871.7840514984| 392120.0|(1000,[10,13,15,2...|\n",
      "|  -984782.8991670524|342760.06|(1000,[10,13,15,4...|\n",
      "|  202106.55295227905| 499920.0|(1000,[5,70,120,1...|\n",
      "|  1818003.3578549554| 500000.0|(1000,[1,28,86],[...|\n",
      "| -286324.74035095086| 270187.7|(1000,[22,30,65,8...|\n",
      "|   78965.34471193032| 429350.0|(1000,[247,348,42...|\n",
      "|   636847.2108542032| 651706.0|(1000,[5,9,26,155...|\n",
      "|  1616184.1969578827|354885.22|(1000,[25,40,73,8...|\n",
      "|  -167486.8741742194|275643.97|(1000,[8,46,352,5...|\n",
      "|   576264.5478086167|388824.47|(1000,[30,79,81,3...|\n",
      "|   2116516.356030904| 535365.0|(1000,[4,6,7,22,1...|\n",
      "|   902461.1673980198| 600000.0|(1000,[81,115,244...|\n",
      "+--------------------+---------+--------------------+\n",
      "only showing top 20 rows\n",
      "\n",
      "Root Mean Squared Error (RMSE) on test data for linear regression = 9.8932e+06\n"
     ]
    }
   ],
   "source": [
    "lrPredictions.select(\"prediction\",\"_c9\",\"Features\").show()\n",
    "lrEvaluator = RegressionEvaluator(labelCol=\"_c9\", predictionCol=\"prediction\", metricName=\"rmse\")\n",
    "rmse = lrEvaluator.evaluate(lrPredictions)\n",
    "print(\"Root Mean Squared Error (RMSE) on test data for linear regression = %g\" % rmse)"
   ]
  },
  {
   "cell_type": "code",
   "execution_count": 118,
   "metadata": {},
   "outputs": [],
   "source": [
    "lrEvaluator_r2 = RegressionEvaluator(labelCol=\"_c9\", predictionCol=\"prediction\", metricName=\"r2\")\n",
    "lr_r2 = lrEvaluator_r2.evaluate(lrPredictions)"
   ]
  },
  {
   "cell_type": "code",
   "execution_count": 119,
   "metadata": {},
   "outputs": [
    {
     "name": "stdout",
     "output_type": "stream",
     "text": [
      "R2 on test data for linear regression = -0.00310965\n"
     ]
    }
   ],
   "source": [
    "print(\"R2 on test data for linear regression = %g\" % lr_r2)"
   ]
  },
  {
   "cell_type": "markdown",
   "metadata": {},
   "source": [
    "### DecisionTreeRegressor"
   ]
  },
  {
   "cell_type": "code",
   "execution_count": 112,
   "metadata": {},
   "outputs": [
    {
     "name": "stdout",
     "output_type": "stream",
     "text": [
      "Root Mean Squared Error (RMSE) on test data for decision tree = 9.77069e+06\n"
     ]
    }
   ],
   "source": [
    "dt = DecisionTreeRegressor(featuresCol ='Features', labelCol = '_c9')\n",
    "dtModel = dt.fit(rest)\n",
    "dtPredictions = dtModel.transform(validation)\n",
    "dtEvaluator = RegressionEvaluator(labelCol=\"_c9\", predictionCol=\"prediction\", metricName=\"rmse\")\n",
    "rmse = dtEvaluator.evaluate(dtPredictions)\n",
    "print(\"Root Mean Squared Error (RMSE) on test data for decision tree = %g\" % rmse)"
   ]
  },
  {
   "cell_type": "code",
   "execution_count": 114,
   "metadata": {},
   "outputs": [
    {
     "name": "stdout",
     "output_type": "stream",
     "text": [
      "+-----------------+---------+--------------------+\n",
      "|       prediction|      _c9|            Features|\n",
      "+-----------------+---------+--------------------+\n",
      "|572582.6692662078| 439921.0|(1000,[19,36,85],...|\n",
      "|572582.6692662078| 999671.0|(1000,[5,7,35,77,...|\n",
      "|572582.6692662078|481963.34|(1000,[32,102,170...|\n",
      "|           1.16E7|531296.75|(1000,[11,17,28,3...|\n",
      "|572582.6692662078| 393310.0|(1000,[14,21,41,1...|\n",
      "|572582.6692662078|360903.72|(1000,[0,7,278,32...|\n",
      "|572582.6692662078| 363411.0|(1000,[6,50,100],...|\n",
      "|572582.6692662078| 493043.0|(1000,[126],[4.51...|\n",
      "|572582.6692662078| 392120.0|(1000,[10,13,15,2...|\n",
      "|572582.6692662078|342760.06|(1000,[10,13,15,4...|\n",
      "|572582.6692662078| 499920.0|(1000,[5,70,120,1...|\n",
      "|572582.6692662078| 500000.0|(1000,[1,28,86],[...|\n",
      "|572582.6692662078| 270187.7|(1000,[22,30,65,8...|\n",
      "|572582.6692662078| 429350.0|(1000,[247,348,42...|\n",
      "|572582.6692662078| 651706.0|(1000,[5,9,26,155...|\n",
      "|572582.6692662078|354885.22|(1000,[25,40,73,8...|\n",
      "|572582.6692662078|275643.97|(1000,[8,46,352,5...|\n",
      "|572582.6692662078|388824.47|(1000,[30,79,81,3...|\n",
      "|572582.6692662078| 535365.0|(1000,[4,6,7,22,1...|\n",
      "|572582.6692662078| 600000.0|(1000,[81,115,244...|\n",
      "+-----------------+---------+--------------------+\n",
      "only showing top 20 rows\n",
      "\n"
     ]
    }
   ],
   "source": [
    "dtPredictions.select(\"prediction\",\"_c9\",\"Features\").show()"
   ]
  },
  {
   "cell_type": "code",
   "execution_count": 120,
   "metadata": {},
   "outputs": [],
   "source": [
    "dtEvaluator_r2 = RegressionEvaluator(labelCol=\"_c9\", predictionCol=\"prediction\", metricName=\"r2\")\n",
    "dt_r2 = dtEvaluator.evaluate(dtPredictions)"
   ]
  },
  {
   "cell_type": "code",
   "execution_count": 121,
   "metadata": {},
   "outputs": [
    {
     "name": "stdout",
     "output_type": "stream",
     "text": [
      "R2 on test data for decision tree = 0.0215811\n"
     ]
    }
   ],
   "source": [
    "print(\"R2 on test data for decision tree = %g\" % dt_r2)"
   ]
  },
  {
   "cell_type": "markdown",
   "metadata": {},
   "source": [
    "### Conclusion\n",
    "After data exploration and model training we are able to answer to the last question. There is no correlation between the contract award amount and the contract description."
   ]
  },
  {
   "cell_type": "code",
   "execution_count": null,
   "metadata": {},
   "outputs": [],
   "source": []
  }
 ],
 "metadata": {
  "kernelspec": {
   "display_name": "Python 3",
   "language": "python",
   "name": "python3"
  },
  "language_info": {
   "codemirror_mode": {
    "name": "ipython",
    "version": 3
   },
   "file_extension": ".py",
   "mimetype": "text/x-python",
   "name": "python",
   "nbconvert_exporter": "python",
   "pygments_lexer": "ipython3",
   "version": "3.7.4"
  }
 },
 "nbformat": 4,
 "nbformat_minor": 2
}
